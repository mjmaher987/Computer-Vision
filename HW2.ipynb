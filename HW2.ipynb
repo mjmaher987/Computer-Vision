{
  "cells": [
    {
      "cell_type": "markdown",
      "metadata": {
        "id": "IHZfoNCmBVO-"
      },
      "source": [
        "Name: Mohammad Javad Maheronnaghsh"
      ]
    },
    {
      "cell_type": "markdown",
      "metadata": {
        "id": "Imp0o_BDMPc4"
      },
      "source": [
        "**Part 1**\n",
        "\n",
        " Write two functions named \"camera_matrix\" and \"camera_projection\". The first one gets all the camera parameters, containing λ, f (focal length), Sx, Sy, Sθ, Ox, Oy, R, T, and returns the camera matrix (Please provide comments above each stage of transformation). The second function projects a given 3D point on image and returns a 2D point in pixel coordinates."
      ]
    },
    {
      "cell_type": "code",
      "execution_count": 6,
      "metadata": {
        "id": "YCw0SrVcBRpe"
      },
      "outputs": [],
      "source": [
        "import numpy as np\n",
        "def camera_matrix(landa, f, Sx, Sy, S_theta, Ox, Oy, R, T):\n",
        "\n",
        "    # Intrinsic matrix (K): These are the internal parameters of our camera\n",
        "    K = np.array([[f*Sx, S_theta, Ox],\n",
        "                  [0, f*Sy, Oy],\n",
        "                  [0, 0, 1]]) / landa\n",
        "\n",
        "    # Extrinsic matrix (RT): These are the external parameteres of our camera\n",
        "    RT = np.hstack((R, T.reshape((3, 1))))\n",
        "    # Camera matrix (Output) = Intrinsic matrix * Extrinsic matrix\n",
        "    # In simple words, we are considering both internal and external features\n",
        "        # for out camera\n",
        "    camera_matrix = np.dot(K, RT)\n",
        "\n",
        "    # return matrix\n",
        "    return camera_matrix\n",
        "    \n",
        "\n",
        "def camera_projection(X, Y, Z, matrix):\n",
        "    # Homogeneous coordinates for the 3D point\n",
        "    # In this line, we create the 3d point from x-y-z coordinates\n",
        "    point_3d = np.array([X, Y, Z, 1])\n",
        "\n",
        "    # Project the 3D point to 2D (using camera matrix)\n",
        "    point_2d = np.dot(matrix, point_3d)\n",
        "\n",
        "    # Normalize the coordinates\n",
        "    x = point_2d[0] / point_2d[2]\n",
        "    y = point_2d[1] / point_2d[2]\n",
        "    return x, y\n"
      ]
    },
    {
      "cell_type": "markdown",
      "metadata": {
        "id": "sNDAg8TtSmHY"
      },
      "source": [
        "**Part 2**\n",
        "\n",
        "Consider a pinhole camera with center located at (1, 1, -3), which its focal length is 100, scale factors (Sx, Sy) are both 1 and pixel coordinates of principal point is (50, 50). Also skew parameter is zero. The angle of the camera is such that the optical axis of the camera is parallel to the z axis. Using the previous function obtain the whole camera matrix."
      ]
    },
    {
      "cell_type": "code",
      "execution_count": 9,
      "metadata": {
        "id": "hxfSKvOdTEe_"
      },
      "outputs": [
        {
          "name": "stdout",
          "output_type": "stream",
          "text": [
            "Camera Matrix:\n",
            "[[100.   0.  50.  50.]\n",
            " [  0. 100.  50.  50.]\n",
            " [  0.   0.   1.   3.]]\n"
          ]
        }
      ],
      "source": [
        "# Parameters\n",
        "landa = 1\n",
        "f = 100 # focal length\n",
        "Sx = 1 # Scale for X\n",
        "Sy = 1 # Scale for Y\n",
        "S_theta = 0 # skew_parameter\n",
        "Ox = 50 # Pixel Coordinate for X\n",
        "Oy = 50 # Pixel Coordinate for Y\n",
        "\n",
        "# Translation\n",
        "t = np.array([-1, -1, 3])\n",
        "\n",
        "# Rotation \n",
        "# the rotation matrix is the identity matrix\n",
        "# Why? Because: optical axis || z-axis\n",
        "r = np.eye(3)\n",
        "\n",
        "# Camera matrix Calculation\n",
        "camera_matrix_result = camera_matrix(landa, f, Sx, Sy, S_theta, Ox, Oy, r, t)\n",
        "\n",
        "print(\"Camera Matrix:\")\n",
        "print(camera_matrix_result)"
      ]
    },
    {
      "cell_type": "markdown",
      "metadata": {
        "id": "5jGzVpW-TFIb"
      },
      "source": [
        "**Part 3**\n",
        "\n",
        "Suppose that vector V: (0, 1, 1) is located at (1, 1, 3) in 3D space. Apply the obtained camera matrix to V. Plot the result in pixel coordinates in a 2D plot. From which step of projection the length of the vector changes?"
      ]
    },
    {
      "cell_type": "code",
      "execution_count": 14,
      "metadata": {
        "id": "hxRF8-MLTbFZ"
      },
      "outputs": [
        {
          "data": {
            "image/png": "[encoded data removed]",
            "text/plain": [
              "<Figure size 432x288 with 1 Axes>"
            ]
          },
          "metadata": {
            "needs_background": "light"
          },
          "output_type": "display_data"
        }
      ],
      "source": [
        "import matplotlib.pyplot as plt\n",
        "\n",
        "\n",
        "# Apply the camera matrix to the 3D vector\n",
        "x_vals = []\n",
        "y_vals = []\n",
        "\n",
        "# Project 1st point\n",
        "point1 = camera_projection(1, 1, 3, camera_matrix_result)\n",
        "x_vals.append(point1[0])\n",
        "y_vals.append(point1[1])\n",
        "\n",
        "# Project 2nd point\n",
        "point2 = camera_projection(1+0, 1+1, 3+1, camera_matrix_result)\n",
        "x_vals.append(point2[0])\n",
        "y_vals.append(point2[1])\n",
        "\n",
        "# Plotting the results\n",
        "plt.plot(x_vals, y_vals, marker='o', linestyle='-', color='b')\n",
        "plt.title('Projection in 2D Space')\n",
        "plt.xlabel('X')\n",
        "plt.ylabel('Y')\n",
        "plt.grid(True)\n",
        "plt.show()\n"
      ]
    },
    {
      "cell_type": "markdown",
      "metadata": {
        "id": "DhVMnoXWbYcM"
      },
      "source": [
        "**Part 4**\n",
        "\n",
        "If the camera is rotated by +25 degrees around x axis, how would R and T change? What would the final image be?"
      ]
    },
    {
      "cell_type": "code",
      "execution_count": 23,
      "metadata": {
        "id": "RWnW4HvgbhVB"
      },
      "outputs": [
        {
          "name": "stdout",
          "output_type": "stream",
          "text": [
            "\n",
            "\n",
            "New R:\n",
            "[[ 1.          0.          0.        ]\n",
            " [ 0.          0.90630779 -0.42261826]\n",
            " [ 0.          0.42261826  0.90630779]]\n",
            "\n",
            "\n",
            "New Camera Matrix:\n",
            "[[100.          21.13091309  45.31538935  50.        ]\n",
            " [  0.         111.76169179   3.05356318  50.        ]\n",
            " [  0.           0.42261826   0.90630779   3.        ]]\n",
            "\n",
            "\n",
            "\n",
            "\n",
            "2D Projection of 1st point: x = 50.00, y = 27.83\n",
            "\n",
            "2D Projection of 1st point: x = 50.00, y = 38.25\n"
          ]
        },
        {
          "data": {
            "image/png": "[encoded data removed]",
            "text/plain": [
              "<Figure size 432x288 with 1 Axes>"
            ]
          },
          "metadata": {
            "needs_background": "light"
          },
          "output_type": "display_data"
        }
      ],
      "source": [
        "# Define new rotation\n",
        "rotation_angle_degrees = 25\n",
        "rotation_angle_radians = np.radians(rotation_angle_degrees)\n",
        "r2 = np.array([[1, 0, 0],[0, np.cos(rotation_angle_radians), -np.sin(rotation_angle_radians)],[0, np.sin(rotation_angle_radians), np.cos(rotation_angle_radians)]])\n",
        "\n",
        "# Update new Rotation\n",
        "r_new=np.dot(r, r2)\n",
        "\n",
        "# Update new camera matrix\n",
        "camera_matrix_new = camera_matrix(landa, f, Sx, Sy, S_theta, Ox, Oy, r_new, t)\n",
        "\n",
        "# 2D Projection\n",
        "point1 = camera_projection(1, 1, 3, camera_matrix_new)\n",
        "point2 = camera_projection(1+0, 1+1, 3+1, camera_matrix_new)\n",
        "\n",
        "# Print new Rotation Matrix - T is the same\n",
        "print(\"\\n\\nNew R:\")\n",
        "print(r_new)\n",
        "\n",
        "# Print new Camera Matrix\n",
        "print(\"\\n\\nNew Camera Matrix:\")\n",
        "print(camera_matrix_new)\n",
        "\n",
        "# Display the result of projecting the vector V onto the image plane\n",
        "print('\\n\\n')\n",
        "print(f\"\\n2D Projection of 1st point: x = {point1[0]:.2f}, y = {point1[1]:.2f}\")\n",
        "print(f\"\\n2D Projection of 1st point: x = {point2[0]:.2f}, y = {point2[1]:.2f}\")\n",
        "\n",
        "\n",
        "# Apply the camera matrix to the 3D vector\n",
        "x_vals = []\n",
        "y_vals = []\n",
        "\n",
        "x_vals.append(point1[0])\n",
        "y_vals.append(point1[1])\n",
        "\n",
        "x_vals.append(point2[0])\n",
        "y_vals.append(point2[1])\n",
        "\n",
        "# Plotting the results\n",
        "plt.plot(x_vals, y_vals, marker='o', linestyle='-', color='b')\n",
        "plt.title('Projection in 2D Space')\n",
        "plt.xlabel('X')\n",
        "plt.ylabel('Y')\n",
        "plt.grid(True)\n",
        "plt.show()\n"
      ]
    }
  ],
  "metadata": {
    "colab": {
      "provenance": []
    },
    "interpreter": {
      "hash": "4d85870db0d0f4946a3536c748a7476d01848d1308421d25f7cfde2ccae9cc79"
    },
    "kernelspec": {
      "display_name": "Python 3.9.13 64-bit (windows store)",
      "language": "python",
      "name": "python3"
    },
    "language_info": {
      "codemirror_mode": {
        "name": "ipython",
        "version": 3
      },
      "file_extension": ".py",
      "mimetype": "text/x-python",
      "name": "python",
      "nbconvert_exporter": "python",
      "pygments_lexer": "ipython3",
      "version": "3.9.13"
    }
  },
  "nbformat": 4,
  "nbformat_minor": 0
}
